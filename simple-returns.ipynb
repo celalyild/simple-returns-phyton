{
 "cells": [
  {
   "cell_type": "code",
   "execution_count": null,
   "id": "10a7c7bf",
   "metadata": {},
   "outputs": [],
   "source": [
    "import numpy as np\n",
    "from pandas_datareader import data as wb\n",
    "import matplotlib.pyplot as plt"
   ]
  },
  {
   "cell_type": "code",
   "execution_count": null,
   "id": "5defedf2",
   "metadata": {},
   "outputs": [],
   "source": [
    "AMZN = wb.DataReader('AMZN', data_source='yahoo', start='2020-1-1')"
   ]
  },
  {
   "cell_type": "code",
   "execution_count": null,
   "id": "3f84c217",
   "metadata": {},
   "outputs": [],
   "source": [
    "AMZN.head()"
   ]
  },
  {
   "cell_type": "code",
   "execution_count": null,
   "id": "c57ede09",
   "metadata": {},
   "outputs": [],
   "source": [
    "AMZN.tail()"
   ]
  },
  {
   "cell_type": "code",
   "execution_count": null,
   "id": "64730734",
   "metadata": {},
   "outputs": [],
   "source": [
    "AMZN['simple_return'] =(AMZN['Adj Close'] / AMZN['Adj Close'].shift(1))-1\n",
    "print(AMZN['simple_return'])\n"
   ]
  },
  {
   "cell_type": "code",
   "execution_count": null,
   "id": "414a6e9d",
   "metadata": {},
   "outputs": [],
   "source": [
    "AMZN['simple_return'].plot(figsize=(8,5))"
   ]
  },
  {
   "cell_type": "code",
   "execution_count": null,
   "id": "4492fee5",
   "metadata": {},
   "outputs": [],
   "source": [
    "avg_returns_d= AMZN['simple_return'].mean()\n",
    "avg_returns_d"
   ]
  },
  {
   "cell_type": "code",
   "execution_count": null,
   "id": "fad42cd3",
   "metadata": {},
   "outputs": [],
   "source": [
    "avg_returns_a=AMZN['simple_return'].mean()*250\n",
    "avg_returns_a"
   ]
  },
  {
   "cell_type": "code",
   "execution_count": null,
   "id": "4cbfb7ae",
   "metadata": {},
   "outputs": [],
   "source": [
    "print(str(round(avg_returns_a,5)*100)+' %')"
   ]
  },
  {
   "cell_type": "code",
   "execution_count": null,
   "id": "c3992c3a",
   "metadata": {},
   "outputs": [],
   "source": []
  }
 ],
 "metadata": {
  "kernelspec": {
   "display_name": "Python 3 (ipykernel)",
   "language": "python",
   "name": "python3"
  },
  "language_info": {
   "codemirror_mode": {
    "name": "ipython",
    "version": 3
   },
   "file_extension": ".py",
   "mimetype": "text/x-python",
   "name": "python",
   "nbconvert_exporter": "python",
   "pygments_lexer": "ipython3",
   "version": "3.9.7"
  }
 },
 "nbformat": 4,
 "nbformat_minor": 5
}
